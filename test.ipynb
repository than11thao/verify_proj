{
 "cells": [
  {
   "cell_type": "code",
   "execution_count": 1,
   "metadata": {},
   "outputs": [
    {
     "ename": "TwilioRestException",
     "evalue": "HTTP 400 error: Unable to create record: Invalid parameter: Code",
     "output_type": "error",
     "traceback": [
      "\u001b[1;31m---------------------------------------------------------------------------\u001b[0m",
      "\u001b[1;31mTwilioRestException\u001b[0m                       Traceback (most recent call last)",
      "Cell \u001b[1;32mIn[1], line 37\u001b[0m\n\u001b[0;32m     33\u001b[0m generate_otp(\u001b[39m\"\u001b[39m\u001b[39m+84904738154\u001b[39m\u001b[39m\"\u001b[39m)\n\u001b[0;32m     35\u001b[0m otp_code \u001b[39m=\u001b[39m \u001b[39minput\u001b[39m(\u001b[39m\"\u001b[39m\u001b[39mPlease enter the OTP:\u001b[39m\u001b[39m\"\u001b[39m)\n\u001b[1;32m---> 37\u001b[0m \u001b[39mprint\u001b[39m(verify_otp(otp_code, \u001b[39m\"\u001b[39;49m\u001b[39m+84904738154\u001b[39;49m\u001b[39m\"\u001b[39;49m))\n",
      "Cell \u001b[1;32mIn[1], line 28\u001b[0m, in \u001b[0;36mverify_otp\u001b[1;34m(otp_code, verified_number)\u001b[0m\n\u001b[0;32m     25\u001b[0m \u001b[39mdef\u001b[39;00m \u001b[39mverify_otp\u001b[39m(otp_code, verified_number):\n\u001b[0;32m     26\u001b[0m       verification_check \u001b[39m=\u001b[39m client\u001b[39m.\u001b[39;49mverify\u001b[39m.\u001b[39;49mv2\u001b[39m.\u001b[39;49mservices(verify_sid) \\\n\u001b[0;32m     27\u001b[0m         \u001b[39m.\u001b[39;49mverification_checks \\\n\u001b[1;32m---> 28\u001b[0m         \u001b[39m.\u001b[39;49mcreate(to\u001b[39m=\u001b[39;49mverified_number, code\u001b[39m=\u001b[39;49motp_code)\n\u001b[0;32m     29\u001b[0m       \u001b[39mreturn\u001b[39;00m verification_check\u001b[39m.\u001b[39mstatus\n",
      "File \u001b[1;32mc:\\Users\\THAN THI THAO\\AppData\\Local\\Programs\\Python\\Python311\\Lib\\site-packages\\twilio\\rest\\verify\\v2\\service\\verification_check.py:132\u001b[0m, in \u001b[0;36mVerificationCheckList.create\u001b[1;34m(self, code, to, verification_sid, amount, payee)\u001b[0m\n\u001b[0;32m    111\u001b[0m \u001b[39m\u001b[39m\u001b[39m\"\"\"\u001b[39;00m\n\u001b[0;32m    112\u001b[0m \u001b[39mCreate the VerificationCheckInstance\u001b[39;00m\n\u001b[0;32m    113\u001b[0m \n\u001b[1;32m   (...)\u001b[0m\n\u001b[0;32m    120\u001b[0m \u001b[39m:returns: The created VerificationCheckInstance\u001b[39;00m\n\u001b[0;32m    121\u001b[0m \u001b[39m\"\"\"\u001b[39;00m\n\u001b[0;32m    122\u001b[0m data \u001b[39m=\u001b[39m values\u001b[39m.\u001b[39mof(\n\u001b[0;32m    123\u001b[0m     {\n\u001b[0;32m    124\u001b[0m         \u001b[39m\"\u001b[39m\u001b[39mCode\u001b[39m\u001b[39m\"\u001b[39m: code,\n\u001b[1;32m   (...)\u001b[0m\n\u001b[0;32m    129\u001b[0m     }\n\u001b[0;32m    130\u001b[0m )\n\u001b[1;32m--> 132\u001b[0m payload \u001b[39m=\u001b[39m \u001b[39mself\u001b[39;49m\u001b[39m.\u001b[39;49m_version\u001b[39m.\u001b[39;49mcreate(\n\u001b[0;32m    133\u001b[0m     method\u001b[39m=\u001b[39;49m\u001b[39m\"\u001b[39;49m\u001b[39mPOST\u001b[39;49m\u001b[39m\"\u001b[39;49m,\n\u001b[0;32m    134\u001b[0m     uri\u001b[39m=\u001b[39;49m\u001b[39mself\u001b[39;49m\u001b[39m.\u001b[39;49m_uri,\n\u001b[0;32m    135\u001b[0m     data\u001b[39m=\u001b[39;49mdata,\n\u001b[0;32m    136\u001b[0m )\n\u001b[0;32m    138\u001b[0m \u001b[39mreturn\u001b[39;00m VerificationCheckInstance(\n\u001b[0;32m    139\u001b[0m     \u001b[39mself\u001b[39m\u001b[39m.\u001b[39m_version, payload, service_sid\u001b[39m=\u001b[39m\u001b[39mself\u001b[39m\u001b[39m.\u001b[39m_solution[\u001b[39m\"\u001b[39m\u001b[39mservice_sid\u001b[39m\u001b[39m\"\u001b[39m]\n\u001b[0;32m    140\u001b[0m )\n",
      "File \u001b[1;32mc:\\Users\\THAN THI THAO\\AppData\\Local\\Programs\\Python\\Python311\\Lib\\site-packages\\twilio\\base\\version.py:465\u001b[0m, in \u001b[0;36mVersion.create\u001b[1;34m(self, method, uri, params, data, headers, auth, timeout, allow_redirects)\u001b[0m\n\u001b[0;32m    451\u001b[0m \u001b[39m\u001b[39m\u001b[39m\"\"\"\u001b[39;00m\n\u001b[0;32m    452\u001b[0m \u001b[39mCreate a resource instance.\u001b[39;00m\n\u001b[0;32m    453\u001b[0m \u001b[39m\"\"\"\u001b[39;00m\n\u001b[0;32m    454\u001b[0m response \u001b[39m=\u001b[39m \u001b[39mself\u001b[39m\u001b[39m.\u001b[39mrequest(\n\u001b[0;32m    455\u001b[0m     method,\n\u001b[0;32m    456\u001b[0m     uri,\n\u001b[1;32m   (...)\u001b[0m\n\u001b[0;32m    462\u001b[0m     allow_redirects\u001b[39m=\u001b[39mallow_redirects,\n\u001b[0;32m    463\u001b[0m )\n\u001b[1;32m--> 465\u001b[0m \u001b[39mreturn\u001b[39;00m \u001b[39mself\u001b[39;49m\u001b[39m.\u001b[39;49m_parse_create(method, uri, response)\n",
      "File \u001b[1;32mc:\\Users\\THAN THI THAO\\AppData\\Local\\Programs\\Python\\Python311\\Lib\\site-packages\\twilio\\base\\version.py:436\u001b[0m, in \u001b[0;36mVersion._parse_create\u001b[1;34m(self, method, uri, response)\u001b[0m\n\u001b[0;32m    432\u001b[0m \u001b[39m\u001b[39m\u001b[39m\"\"\"\u001b[39;00m\n\u001b[0;32m    433\u001b[0m \u001b[39mParse create response JSON\u001b[39;00m\n\u001b[0;32m    434\u001b[0m \u001b[39m\"\"\"\u001b[39;00m\n\u001b[0;32m    435\u001b[0m \u001b[39mif\u001b[39;00m response\u001b[39m.\u001b[39mstatus_code \u001b[39m<\u001b[39m \u001b[39m200\u001b[39m \u001b[39mor\u001b[39;00m response\u001b[39m.\u001b[39mstatus_code \u001b[39m>\u001b[39m\u001b[39m=\u001b[39m \u001b[39m300\u001b[39m:\n\u001b[1;32m--> 436\u001b[0m     \u001b[39mraise\u001b[39;00m \u001b[39mself\u001b[39m\u001b[39m.\u001b[39mexception(method, uri, response, \u001b[39m\"\u001b[39m\u001b[39mUnable to create record\u001b[39m\u001b[39m\"\u001b[39m)\n\u001b[0;32m    438\u001b[0m \u001b[39mreturn\u001b[39;00m json\u001b[39m.\u001b[39mloads(response\u001b[39m.\u001b[39mtext)\n",
      "\u001b[1;31mTwilioRestException\u001b[0m: HTTP 400 error: Unable to create record: Invalid parameter: Code"
     ]
    }
   ],
   "source": [
    "import os\n",
    "from twilio.rest import Client\n",
    "import logging\n",
    "\n",
    "#Your account sid và auth token form twilio.com/console\n",
    "#and set the environment variables. See http://twil.io/secure\n",
    "\n",
    "account_sid = 'AC8787a74a8bb233965995b8a33b1249fb'\n",
    "auth_token = 'd3330a5731d00ecbd914a8082a474113'\n",
    "verify_sid= 'VAebde1c4c9daa2e5fabd7d469b2adbab1'\n",
    "# verified_number = \"+84904738154\"\n",
    "\n",
    "client = Client(account_sid, auth_token)\n",
    "logging.basicConfig(filename=\"./log.txt\")\n",
    "client.http_client.logger.setLevel(logging.ERROR)\n",
    "\n",
    "#Send a Verification Token\n",
    "def generate_otp(verified_number):\n",
    "      verification = client.verify.v2.services(verify_sid) \\\n",
    "        .verifications \\\n",
    "        .create(to=verified_number, channel=\"sms\")\n",
    "      return verification \n",
    "\n",
    "#Verification Check\n",
    "def verify_otp(otp_code, verified_number):\n",
    "      verification_check = client.verify.v2.services(verify_sid) \\\n",
    "        .verification_checks \\\n",
    "        .create(to=verified_number, code=otp_code)\n",
    "      return verification_check.status\n",
    "\n",
    "\n",
    "# generate_otp(\"+84344786376\")\n",
    "generate_otp(\"+84904738154\")\n",
    "\n",
    "otp_code = input(\"Please enter the OTP:\")\n",
    "\n",
    "print(verify_otp(otp_code, \"+84904738154\"))\n"
   ]
  }
 ],
 "metadata": {
  "kernelspec": {
   "display_name": "Python 3",
   "language": "python",
   "name": "python3"
  },
  "language_info": {
   "codemirror_mode": {
    "name": "ipython",
    "version": 3
   },
   "file_extension": ".py",
   "mimetype": "text/x-python",
   "name": "python",
   "nbconvert_exporter": "python",
   "pygments_lexer": "ipython3",
   "version": "3.11.3"
  },
  "orig_nbformat": 4
 },
 "nbformat": 4,
 "nbformat_minor": 2
}
